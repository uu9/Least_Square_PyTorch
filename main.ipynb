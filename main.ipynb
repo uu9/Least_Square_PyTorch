{
 "cells": [
  {
   "cell_type": "code",
   "execution_count": 1,
   "metadata": {},
   "outputs": [],
   "source": [
    "import torch"
   ]
  },
  {
   "cell_type": "code",
   "execution_count": 2,
   "metadata": {},
   "outputs": [
    {
     "name": "stdout",
     "output_type": "stream",
     "text": [
      "tensor([[12.2303, 10.3898,  9.4891, 11.2779, 10.8731,  8.8102, 11.4850, 11.8160,\n",
      "         10.9821,  9.4199],\n",
      "        [ 9.1663,  8.9560, 10.3938,  7.8861,  8.6376, 10.8869, 10.2025,  9.7561,\n",
      "         10.9660, 10.1453]])\n"
     ]
    }
   ],
   "source": [
    "INPUT_SIZE = 10\n",
    "BATCH_SIZE = 2\n",
    "ITERATIONS = 100\n",
    "# pay attention to the number (10)\n",
    "target = 10+torch.randn((BATCH_SIZE, INPUT_SIZE), requires_grad=False)\n",
    "\n",
    "print(target)\n"
   ]
  },
  {
   "cell_type": "code",
   "execution_count": 3,
   "metadata": {},
   "outputs": [],
   "source": [
    "def LS_loss_function(est, target):\n",
    "    BS = target.shape[0]\n",
    "    # robust_diff = F.smooth_l1_loss(est, target, reduction='none', beta=1.0)\n",
    "    diff = est-target\n",
    "    loss = torch.sum(torch.square(diff))\n",
    "    return loss\n",
    "    "
   ]
  },
  {
   "cell_type": "code",
   "execution_count": 4,
   "metadata": {},
   "outputs": [],
   "source": [
    "def solve_LS(target):\n",
    "    BS = target.shape[0]\n",
    "    est = torch.ones((BS, 1), requires_grad=True)\n",
    "    optimizer = torch.optim.SGD([est], lr=1e-2)\n",
    "\n",
    "    # SGD\n",
    "    for i in range(ITERATIONS):\n",
    "        LS_loss = LS_loss_function(est, target)\n",
    "        optimizer.zero_grad()\n",
    "        LS_loss.backward()\n",
    "        optimizer.step()\n",
    "    return est\n",
    "    "
   ]
  },
  {
   "cell_type": "code",
   "execution_count": 5,
   "metadata": {},
   "outputs": [
    {
     "name": "stdout",
     "output_type": "stream",
     "text": [
      "tensor([[10.6773],\n",
      "        [ 9.6997]], requires_grad=True)\n"
     ]
    }
   ],
   "source": [
    "sol = solve_LS(target)\n",
    "\n",
    "print(sol)\n"
   ]
  }
 ],
 "metadata": {
  "kernelspec": {
   "display_name": "Python 3.6.13 ('COMP')",
   "language": "python",
   "name": "python3"
  },
  "language_info": {
   "codemirror_mode": {
    "name": "ipython",
    "version": 3
   },
   "file_extension": ".py",
   "mimetype": "text/x-python",
   "name": "python",
   "nbconvert_exporter": "python",
   "pygments_lexer": "ipython3",
   "version": "3.6.13"
  },
  "orig_nbformat": 4,
  "vscode": {
   "interpreter": {
    "hash": "12c099962460d4297a66b88ca6eb1aa5c70ec7d2a2c393052cd64b39a27aa87d"
   }
  }
 },
 "nbformat": 4,
 "nbformat_minor": 2
}
